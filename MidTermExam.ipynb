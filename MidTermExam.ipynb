{
 "cells": [
  {
   "cell_type": "markdown",
   "metadata": {},
   "source": [
    "# Question 21\n",
    "In a jupyter notebook solve the following question. Please upload the notebook to GitHub and provide the link submission box below.\n",
    "\n",
    "__int()__: Constructor that takes as input a pair of Point objects that represent the ends points of the line segment\n",
    "\n",
    "Length():: returns the length if the segment\n",
    "\n",
    "\n",
    "Slope() returns the slope of the segment of none if the slope is unbounded\n",
    "\n",
    "\n",
    " \n",
    "\n",
    "p1 = Point(3,4)\n",
    "\n",
    "p2 = Point()\n",
    "\n",
    "s = Segment(p1,p2)\n",
    "\n",
    "s.length()\n",
    "\n",
    "\n",
    "5.0\n",
    "\n",
    "s.slope()\n",
    "\n",
    "0.75\n"
   ]
  },
  {
   "cell_type": "code",
   "execution_count": 5,
   "metadata": {},
   "outputs": [
    {
     "name": "stdout",
     "output_type": "stream",
     "text": [
      "5.0\n",
      "1.3333333333333333\n"
     ]
    }
   ],
   "source": [
    "#define class point \n",
    "import math\n",
    "\n",
    "class Point:\n",
    "    def __init__(self, x =0, y=0):\n",
    "        self.x =x\n",
    "        self.y=y\n",
    "        \n",
    "# define segment class\n",
    "\n",
    "class Segment:\n",
    "    \n",
    "    def __init__(self, p1, p2): #constructor\n",
    "        \n",
    "        self.p1 =p1\n",
    "        self.p2 =p2\n",
    "        \n",
    "    def Length(self):\n",
    "        \n",
    "        distance = math.sqrt((self.p2.x - self.p1.x)**2 + (self.p2.y-self.p1.y)**2)\n",
    "        return distance\n",
    "        \n",
    "    def Slope(self):\n",
    "        \n",
    "        if self.p2.x-self.p1.x ==0:\n",
    "            return None\n",
    "        \n",
    "        slope = (self.p2.y-self.p1.y)/(self.p2.x-self.p1.x)\n",
    "        return slope\n",
    "    \n",
    "p1 = Point(3,4)\n",
    "p2 = Point()\n",
    "s = Segment(p1,p2)\n",
    "\n",
    "print(s.Length()) # lenth print\n",
    "\n",
    "print(s.Slope()) # generally slope m = (y-y1)/(x-x1) here x =3 , y=4 so m = 4/3\n",
    "\n",
    "\n",
    "        "
   ]
  },
  {
   "cell_type": "markdown",
   "metadata": {},
   "source": [
    "# Question 22\n",
    "\n",
    "\n",
    "In a jupyter notebook solve the following question using both python and SQL. Please upload the notebook to GitHub and provide the link submission box below."
   ]
  },
  {
   "cell_type": "code",
   "execution_count": 44,
   "metadata": {},
   "outputs": [],
   "source": [
    "import sqlite3\n",
    "\n",
    "import pandas as pd\n",
    "\n",
    "# connecting with database\n",
    "conn = sqlite3.connect('WeatherTemp.db')\n",
    "\n",
    "cursor = conn.cursor()\n",
    "#creating weather table\n",
    "\n",
    "create_table_query = '''\n",
    "\n",
    "CREATE TABLE WeatherTemp (\n",
    "id INT PRIMARY KEY,\n",
    "recordDate DATE,\n",
    "temperature INT\n",
    ");\n",
    "'''\n"
   ]
  },
  {
   "cell_type": "code",
   "execution_count": 45,
   "metadata": {},
   "outputs": [],
   "source": [
    "#insert data into db\n",
    "\n",
    "insert_data_query = '''\n",
    "INSERT INTO WeatherTemp (id,recordDate, temperature)\n",
    "VALUES\n",
    "(1,'2015-01-01',10),\n",
    "(2,'2015-01-02',25),\n",
    "(3,'2015-01-03',20),\n",
    "(4,'2015-01-04',30);\n",
    "\n",
    "'''\n"
   ]
  },
  {
   "cell_type": "code",
   "execution_count": 46,
   "metadata": {},
   "outputs": [],
   "source": [
    "#execute query\n",
    "cursor.execute(create_table_query)\n",
    "cursor.execute(insert_data_query)\n",
    "\n",
    "# commit\n",
    "conn.commit()\n",
    "#sql query to find higher temperature  compared to previous dates\n",
    "\n",
    "find_higher_tem_query = '''\n",
    "SELECT wt.id\n",
    "FROM WeatherTemp wt\n",
    "WHERE temperature > (\n",
    "     SELECT temperature\n",
    "     FROM WeatherTemp\n",
    "     WHERE recordDate = DATE(wt.recordDate, '-1 day')\n",
    "     );\n",
    "\n",
    "'''\n"
   ]
  },
  {
   "cell_type": "code",
   "execution_count": 47,
   "metadata": {},
   "outputs": [
    {
     "name": "stdout",
     "output_type": "stream",
     "text": [
      "   id\n",
      "0   2\n",
      "1   4\n"
     ]
    }
   ],
   "source": [
    "#execute sql query\n",
    "data = pd.read_sql_query(find_higher_tem_query, conn)\n",
    "# print result\n",
    "print(data)"
   ]
  },
  {
   "cell_type": "markdown",
   "metadata": {},
   "source": [
    "# Question 23\n",
    "\n",
    "\n",
    "In a jupyter notebook solve the following question using python. Please upload the notebook to GitHub and provide the link submission box below.\n",
    "\n",
    "\n",
    "\n",
    "Develop a recursive function tough() that takes two nonnegative integer arguments and outputs a pattern as shown below. Hint: The first argument represents the indentation of the pattern, where the second argument -- always a pattern of 2 indicates the number *s in the longest line of *s in the pattern"
   ]
  },
  {
   "cell_type": "code",
   "execution_count": 53,
   "metadata": {},
   "outputs": [],
   "source": [
    "def tough(inden, num):\n",
    "    \n",
    "    if num>0:\n",
    "        tough(inden, num//2); # print pre. pattern\n",
    "        \n",
    "        print(\" \"*inden + \"*\"*num);  # print middle row of *s\n",
    "        \n",
    "        tough(inden+1, num//2); #print pre. pattern indented\n",
    "        "
   ]
  },
  {
   "cell_type": "code",
   "execution_count": 54,
   "metadata": {},
   "outputs": [],
   "source": [
    "tough(0,0)"
   ]
  },
  {
   "cell_type": "code",
   "execution_count": 55,
   "metadata": {},
   "outputs": [
    {
     "name": "stdout",
     "output_type": "stream",
     "text": [
      "*\n"
     ]
    }
   ],
   "source": [
    "tough(0,1)"
   ]
  },
  {
   "cell_type": "code",
   "execution_count": 56,
   "metadata": {},
   "outputs": [
    {
     "name": "stdout",
     "output_type": "stream",
     "text": [
      "*\n",
      "**\n",
      " *\n"
     ]
    }
   ],
   "source": [
    "tough(0,2)"
   ]
  },
  {
   "cell_type": "code",
   "execution_count": 57,
   "metadata": {},
   "outputs": [
    {
     "name": "stdout",
     "output_type": "stream",
     "text": [
      "*\n",
      "**\n",
      " *\n",
      "****\n",
      " *\n",
      " **\n",
      "  *\n"
     ]
    }
   ],
   "source": [
    "tough(0,4)"
   ]
  },
  {
   "cell_type": "code",
   "execution_count": null,
   "metadata": {},
   "outputs": [],
   "source": []
  }
 ],
 "metadata": {
  "kernelspec": {
   "display_name": "Python 3",
   "language": "python",
   "name": "python3"
  },
  "language_info": {
   "codemirror_mode": {
    "name": "ipython",
    "version": 3
   },
   "file_extension": ".py",
   "mimetype": "text/x-python",
   "name": "python",
   "nbconvert_exporter": "python",
   "pygments_lexer": "ipython3",
   "version": "3.7.6"
  }
 },
 "nbformat": 4,
 "nbformat_minor": 4
}
